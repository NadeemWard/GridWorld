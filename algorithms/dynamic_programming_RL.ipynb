{
 "cells": [
  {
   "cell_type": "markdown",
   "metadata": {},
   "source": [
    "# Dynamic programming algorithm for policy evaluation and imporvment"
   ]
  },
  {
   "cell_type": "code",
   "execution_count": 8,
   "metadata": {},
   "outputs": [],
   "source": [
    "# this jupyter uses a python package created for gridworlds\n",
    "# please refer to https://github.com/NadeemWard/GridWorld for more information\n",
    "\n",
    "from gridworld.Grid import GridWorld\n",
    "from gridworld.Transitions import Transitions_Probs\n",
    "from gridworld.Rewards import Reward\n",
    "import numpy as np\n",
    "import matplotlib.pyplot as plt\n",
    "\n",
    "def env_dynamics(transitions, rewards, actions, policy):\n",
    "    '''\n",
    "    Function for computing E[R_t+1 | s_t], E[R_t+1 | s_t, a_t] and P[s_t+1| s_t] following a policy \n",
    "    saved as a |S|x1, |S|x|A| and |S|x|S| list respectively\n",
    "    \n",
    "    :param transitions: the transition probabilities defined by the MDP ( P(s'|s,a) )\n",
    "    :param rewards: the rewards defined by the environments\n",
    "    :param actions: the actions defined by the env\n",
    "    :param policy: the policy currently being followed\n",
    "    '''\n",
    "\n",
    "    number_states = len(policy)\n",
    "    number_actions = len(actions)\n",
    "\n",
    "    E_rewards_s = np.zeros( number_states)\n",
    "    E_reward_s_a = np.zeros( (number_states, number_actions) )\n",
    "    P_s_s = np.zeros( (number_states, number_states) )\n",
    "\n",
    "\n",
    "    for s in range(number_states):\n",
    "\n",
    "\n",
    "        for a in range(number_actions):\n",
    "\n",
    "            p = policy[s - 1][a]\n",
    "\n",
    "            sum_s_a = 0\n",
    "            for s_prime in range(number_states):\n",
    "\n",
    "                r = rewards[s - 1][a][s_prime - 1]\n",
    "                t = transitions[s - 1][a][s_prime - 1]\n",
    "\n",
    "                P_s_s [s-1][s_prime - 1] += p * t\n",
    "\n",
    "                sum_s_a += r*t\n",
    "\n",
    "            E_reward_s_a[s - 1][a] = sum_s_a\n",
    "            E_rewards_s[s - 1] += sum_s_a * p\n",
    "\n",
    "    return E_rewards_s, E_reward_s_a, P_s_s\n",
    "\n",
    "\n",
    "\n",
    "def exact_policy_evaluation(r,P,discount):\n",
    "    '''\n",
    "    Function for computing the exact state values by solving the system of linear equations.\n",
    "    v = r + gamma*Pv ==> v = (I - gamma*P)^-1 . r\n",
    "    \n",
    "    :param r: E[R_t+1 | s_t]\n",
    "    :param P: P(s'|s)\n",
    "    :param discount: discount parameter of MDP\n",
    "    '''\n",
    "\n",
    "    i = np.eye(len(r), len(r))\n",
    "    a = (i - discount * P)\n",
    "\n",
    "    v = np.dot(np.linalg.inv(a), r)\n",
    "\n",
    "    return v\n",
    "\n",
    "def iterative_policy_evaluation(r,P,discount,number_of_steps, v_initial = None):\n",
    "    '''\n",
    "    function for performing synchronous DP using the bellman equation.\n",
    "    \n",
    "    :param r: E[R_t+1 | s_t]\n",
    "    :param P: P(s'|s)\n",
    "    :param discount: discount parameter of MDP\n",
    "    :param number_of_steps: number of steps of iterative policy evaluation you would like to make\n",
    "    :param v_initial: the initial values of v (if the user wants to specify them)\n",
    "    '''\n",
    "\n",
    "    if isinstance(v_initial, (list,np.ndarray) ):\n",
    "        v = v_initial\n",
    "    else:\n",
    "        v = np.zeros(len(r))\n",
    "\n",
    "    counter = 0\n",
    "    while(counter < number_of_steps):\n",
    "\n",
    "        v = r + discount * ( np.dot(P,v) ) # bellman equation used as iterative update V_t+1\n",
    "\n",
    "        counter+=1\n",
    "\n",
    "    return v\n",
    "\n",
    "def policy_improvement(r_s_a, P, actions, discount, v_pie):\n",
    "\n",
    "    '''\n",
    "    Function for performing policy deterministic greedy policy improvement assuming we are only working with\n",
    "    state values v(s) (not q(s,a))\n",
    "    \n",
    "    :param r_s_a: E[R_t+1 | s_t, a_t]\n",
    "    :param P: P(s'|s)\n",
    "    :param discount: discount parameter of MDP\n",
    "    :param actions: list of actions\n",
    "    :param v_pie: the current value function values (list)\n",
    "    '''\n",
    "    \n",
    "    number_actions = len(actions)\n",
    "    new_pie = np.zeros( (len(grid.states),len(actions) )  )\n",
    "\n",
    "    for s in grid.states:\n",
    "\n",
    "        q_s = [] # compute all the q(s,a) for state s (i.e. q(s,a1), q(s,a2), q(s,a3), ...)\n",
    "        for a in range(number_actions):\n",
    "            q_s.append( r_s_a[s - 1][a] + discount * np.dot(P[s - 1][a],v_pie) )\n",
    "\n",
    "        i = np.argmax (q_s) # find the max\n",
    "\n",
    "        # change the policy for state s to be the max \n",
    "        for a in range(number_actions):\n",
    "            if i == a:\n",
    "                new_pie[s - 1][a] = 1\n",
    "            else:\n",
    "                new_pie[s - 1][a] = 0\n",
    "\n",
    "    return new_pie\n",
    "\n",
    "def modified_policy_iteration(grid,actions,initial_policy,number_of_evaluation, delta = 10 ** -6 ):\n",
    "\n",
    "    '''\n",
    "    function for doing modified policy iteration following the general policy iteration idea.\n",
    "    Evaluation (specified number of times) followed by imporvement.\n",
    "    \n",
    "    :param grid: the grid world\n",
    "    :param actions:  \n",
    "    :param initial_policy: initial policy to consider\n",
    "    :param number_of_evaluation: number of iterations of policy iteration to execute before imporvement\n",
    "    :param delta: specified stopping critieria  \n",
    "    '''\n",
    "    \n",
    "    policy = initial_policy\n",
    "    transitions = grid.transition_probs.t_probs\n",
    "    rewards = grid.reward_env.expected_rewards\n",
    "\n",
    "    v_s = [] # a list to keep track of the value functions after each iteration of the while loop\n",
    "             # not necessary for algo used for plot \n",
    "\n",
    "    v = np.zeros( len(grid.states) )\n",
    "\n",
    "    while(True):\n",
    "\n",
    "        v_old = v\n",
    "\n",
    "        r_s, r_s_a, p = env_dynamics(transitions,rewards,actions,policy) # get transitions and rewards based\n",
    "                                                                         # on current policy \n",
    "        v = iterative_policy_evaluation(r_s, p, discount, number_of_evaluation, v) #perform policy evaluation\n",
    "        v_s.append(exact_policy_evaluation(r_s,p,discount))\n",
    "\n",
    "        policy = policy_improvement(r_s_a, tp.t_probs, actions, discount, v) # improve\n",
    "\n",
    "\n",
    "        if ( np.linalg.norm( (v_old - v), np.inf ) <= delta ): #stopping criteria\n",
    "\n",
    "            break\n",
    "\n",
    "    return v_s\n",
    "\n",
    "def policy_iteration(grid,actions,initial_policy, delta = 10** -6):\n",
    "\n",
    "    '''\n",
    "    function for exact policy iteration. The value function is computed exactly at each iteration.\n",
    "    \n",
    "    :param grid: the grid world\n",
    "    :param actions:  \n",
    "    :param initial_policy: initial policy to consider\n",
    "    :param delta: specified stopping critieria  \n",
    "    '''\n",
    "    \n",
    "    policy = initial_policy\n",
    "    transitions = grid.transition_probs.t_probs\n",
    "    rewards = grid.reward_env.expected_rewards\n",
    "    v_s = []\n",
    "    v = np.zeros( len(grid.states) )\n",
    "\n",
    "    \n",
    "    while(True):\n",
    "        v_old = v\n",
    "        \n",
    "        r_s,r_s_a, p = env_dynamics(transitions,rewards,actions,policy)\n",
    "        v = exact_policy_evaluation(r_s,p,discount)\n",
    "        v_s.append(v)\n",
    "\n",
    "        policy = policy_improvement(r_s_a, tp.t_probs, actions, discount, v)\n",
    "\n",
    "        if ( np.linalg.norm( (v_old - v), np.inf ) <= delta ):\n",
    "            break\n",
    "        \n",
    "    return v_s\n",
    "\n",
    "def get_state_value(v_s, position):\n",
    "    # get the values for a specfic state over the course of all the value functions computed.\n",
    "\n",
    "    v = []\n",
    "    for v_i in v_s:\n",
    "        v.append(v_i[position - 1])\n",
    "\n",
    "    return v"
   ]
  },
  {
   "cell_type": "code",
   "execution_count": 9,
   "metadata": {},
   "outputs": [
    {
     "name": "stdout",
     "output_type": "stream",
     "text": [
      "|1\t2\t3\t4\t5\t|\n",
      "|6\t7\t8\t9\t10\t|\n",
      "|11\t12\t13\t14\t15\t|\n",
      "|16\t17\t18\t19\t20\t|\n",
      "|21\t22\t23\t24\t25\t|\n"
     ]
    }
   ],
   "source": [
    "    # Define the gridworld\n",
    "    height = 5\n",
    "    width = 5\n",
    "    terminal_states = [1,5] \n",
    "\n",
    "    grid = GridWorld(height, width)\n",
    "    grid.print_grid() # print function to show your grid\n",
    "\n",
    "\n",
    "    # Define the environment dynamics\n",
    "    actions = [\"up\", \"down\", \"right\", \"left\"]\n",
    "\n",
    "    tp = Transitions_Probs(grid, actions)\n",
    "    tp.create_common_transition((\"Random\",0.9))  # There are 3 choices for common transition probabilities (\"Bernoulli\",0.7)) # \"Deterministic\"\n",
    "    \n",
    "    defined_reward = {1:1 , 5:10} # Here, at state 1 I have a reward of 1 and at state 4 I have a reward of 10.\n",
    "    reward_env = Reward(grid, actions)\n",
    "    reward_env.common_reward(defined_reward)\n",
    "    discount = 0.9\n",
    "    \n",
    "    grid.add_terminal_states(terminal_states)\n",
    "\n",
    "\n",
    "    policy = np.ones((len(grid.states), len(actions))) * 0.25  # uniform policy"
   ]
  },
  {
   "cell_type": "markdown",
   "metadata": {},
   "source": [
    "### Below we consider 3 algorithms:\n",
    "- value iteration\n",
    "- modified value iteration where we do 3 steps of policy evaluation\n",
    "- exact policy iteration where we compute the exact values of the policies at each iteration\n",
    "\n",
    "We plot their performance as a function of how good the bottom left state's value is (the furthest state from +10 in our setup) with respect to each iteration of policy imporvement. "
   ]
  },
  {
   "cell_type": "code",
   "execution_count": 10,
   "metadata": {},
   "outputs": [
    {
     "name": "stdout",
     "output_type": "stream",
     "text": [
      "0.03998899459838867\n"
     ]
    }
   ],
   "source": [
    "import time\n",
    "\n",
    "start = time.time()\n",
    "v_exact = policy_iteration(grid,actions,policy)\n",
    "end = time.time()\n",
    "\n",
    "print(end - start)"
   ]
  },
  {
   "cell_type": "code",
   "execution_count": 11,
   "metadata": {},
   "outputs": [
    {
     "name": "stdout",
     "output_type": "stream",
     "text": [
      "0.09398031234741211\n"
     ]
    }
   ],
   "source": [
    "start = time.time()\n",
    "v_val_iteration = modified_policy_iteration(grid,actions,policy,1)\n",
    "end = time.time()\n",
    "print(end - start)"
   ]
  },
  {
   "cell_type": "code",
   "execution_count": 12,
   "metadata": {},
   "outputs": [
    {
     "name": "stdout",
     "output_type": "stream",
     "text": [
      "0.051665306091308594\n"
     ]
    }
   ],
   "source": [
    "start = time.time()\n",
    "v_3 = modified_policy_iteration(grid, actions, policy, 3) \n",
    "end = time.time()\n",
    "\n",
    "print(end - start)"
   ]
  },
  {
   "cell_type": "code",
   "execution_count": 13,
   "metadata": {},
   "outputs": [
    {
     "name": "stdout",
     "output_type": "stream",
     "text": [
      "number of value iterations:  6  number of modified policy iterations:  10 number of policy iteration:  24\n"
     ]
    },
    {
     "data": {
      "image/png": "[encoded data removed]",
      "text/plain": [
       "<Figure size 432x288 with 1 Axes>"
      ]
     },
     "metadata": {
      "needs_background": "light"
     },
     "output_type": "display_data"
    }
   ],
   "source": [
    "    bottom_left = 21\n",
    "    value_iteration = get_state_value(v_exact,bottom_left)\n",
    "    modif_value_iter = get_state_value(v_3,bottom_left)\n",
    "    pol_iteration = get_state_value(v_val_iteration , bottom_left)\n",
    "\n",
    "    print(\"number of value iterations: \",len(value_iteration), \" number of modified policy iterations: \", len(modif_value_iter), \"number of policy iteration: \", len(pol_iteration))\n",
    "\n",
    "    title = \"Exact value of greedy policies for bottom left state on 5x5 grid\"\n",
    "    plt.title(title)\n",
    "    plt.plot(value_iteration[:30])\n",
    "    plt.plot(pol_iteration[:30])\n",
    "    plt.plot(modif_value_iter[:30])\n",
    "    plt.legend([\"value iteration\", \"policy iteration\",\" modified policy iteration (3 evaluation steps)\"])\n",
    "    plt.ylabel(\"Exact value of policy\")\n",
    "    plt.xlabel(\"number of policy updates\")\n",
    "    plt.show()"
   ]
  }
 ],
 "metadata": {
  "kernelspec": {
   "display_name": "Python 3",
   "language": "python",
   "name": "python3"
  },
  "language_info": {
   "codemirror_mode": {
    "name": "ipython",
    "version": 3
   },
   "file_extension": ".py",
   "mimetype": "text/x-python",
   "name": "python",
   "nbconvert_exporter": "python",
   "pygments_lexer": "ipython3",
   "version": "3.7.2"
  }
 },
 "nbformat": 4,
 "nbformat_minor": 2
}
